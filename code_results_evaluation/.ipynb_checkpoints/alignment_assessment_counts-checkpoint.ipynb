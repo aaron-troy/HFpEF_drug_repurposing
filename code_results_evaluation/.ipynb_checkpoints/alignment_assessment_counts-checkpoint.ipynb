{
 "cells": [
  {
   "cell_type": "code",
   "execution_count": 9,
   "id": "59eebbeb",
   "metadata": {},
   "outputs": [],
   "source": [
    "# Add path with autoencoding code\n",
    "import sys\n",
    "# caution: path[0] is reserved for script path (or '' in REPL)\n",
    "sys.path.insert(1, '../code_autoencoding')\n",
    "\n",
    "import numpy as np\n",
    "from numpy import dot\n",
    "from numpy.linalg import norm\n",
    "\n",
    "import pandas as pd\n",
    "import itertools\n",
    "from itertools import combinations\n",
    "\n",
    "import data_loader as dl\n",
    "import autoencoder\n",
    "import trainer\n",
    "import torch\n",
    "import torch.nn as nn\n",
    "from torch.utils.data import DataLoader, Dataset\n",
    "from torch.autograd import Variable\n",
    "\n",
    "import matplotlib.pyplot as plt"
   ]
  },
  {
   "cell_type": "code",
   "execution_count": 2,
   "id": "4e2eaf8b",
   "metadata": {},
   "outputs": [],
   "source": [
    "# Helper functions for getting cosine similarity from drug response vectors.\n",
    "def cos_sim(a,b):\n",
    "    return dot(a, b)/(norm(a)*norm(b))\n",
    "\n",
    "def combs_cos_sim(arr):\n",
    "\n",
    "    if len(arr) < 2:\n",
    "        #print(len(arr))\n",
    "        return 1\n",
    "    combs = list(combinations(np.arange(len(arr)), 2))\n",
    "    sims = [cos_sim(arr[c[0]], arr[c[1]]) for c in combs]\n",
    "\n",
    "    return np.mean(sims)"
   ]
  },
  {
   "cell_type": "markdown",
   "id": "73f4e9d9",
   "metadata": {},
   "source": [
    "#### Read in both the data and meta data for LINCS level 2"
   ]
  },
  {
   "cell_type": "code",
   "execution_count": 118,
   "id": "cf74ef2e",
   "metadata": {},
   "outputs": [
    {
     "name": "stderr",
     "output_type": "stream",
     "text": [
      "<ipython-input-118-8d46d2847467>:7: DtypeWarning: Columns (7) have mixed types. Specify dtype option on import or set low_memory=False.\n",
      "  meta_data = pd.read_csv(meta_data_path, sep = '\\t')\n"
     ]
    }
   ],
   "source": [
    "data_path = \"../data/shared_landmark_counts_vecs.gctx_n100000x960.gct\"\n",
    "lincs_data = dl.load_CMap(data_path)\n",
    "#lincs_data = lincs_data.iloc[:, 10000:50000]\n",
    "lincs_vectors = dict(dl.vectorize(lincs_data))\n",
    "\n",
    "meta_data_path  = \"../meta_data/GSE92742_Broad_LINCS_inst_info.txt\"\n",
    "meta_data = pd.read_csv(meta_data_path, sep = '\\t')"
   ]
  },
  {
   "cell_type": "markdown",
   "id": "2fec60dd",
   "metadata": {},
   "source": [
    "#### Remove meta data for which there is no reponse in the LINCS data "
   ]
  },
  {
   "cell_type": "code",
   "execution_count": 119,
   "id": "06a77519",
   "metadata": {},
   "outputs": [],
   "source": [
    "meta_data = meta_data[meta_data['inst_id'].isin(lincs_data.columns)]"
   ]
  },
  {
   "cell_type": "markdown",
   "id": "678b2290",
   "metadata": {},
   "source": [
    "#### Get the vector IDs (inst_id's) corresponding to each pertubation-cell combination"
   ]
  },
  {
   "cell_type": "code",
   "execution_count": 120,
   "id": "eb94f77c",
   "metadata": {},
   "outputs": [],
   "source": [
    "def get_pert_cell_combs(meta_df):\n",
    "    \n",
    "    pert_cell_combs = itertools.product(set(meta_df.cell_id), set(meta_df.pert_iname))\n",
    "    pert_cell_combs = list(set(zip(meta_df.pert_iname, meta_df.cell_id)))\n",
    "    \n",
    "    vec_ids = dict()\n",
    "    \n",
    "    for c in pert_cell_combs:\n",
    "        vec_ids[c] = meta_df.loc[(meta_df['pert_iname'] == c[0]) & (meta_df['cell_id'] == c[1])]['inst_id']\n",
    "    \n",
    "    return vec_ids\n",
    "\n",
    "pert_cell_vector_dict = get_pert_cell_combs(meta_data)"
   ]
  },
  {
   "cell_type": "markdown",
   "id": "0a9979bd",
   "metadata": {},
   "source": [
    "#### Compute the mean vector for each pertubation-cell combination. This is the average response for a given cell type and drug in the native space.  Store the mean response to DMSO separately."
   ]
  },
  {
   "cell_type": "code",
   "execution_count": 125,
   "id": "44c6965b",
   "metadata": {},
   "outputs": [],
   "source": [
    "def get_mean_vec_from_control(all_vectors, vec_group_dict, cnt_condition = \"DMSO\"):\n",
    "    \n",
    "    group_mean_vectors = dict()\n",
    "    cnt_mean_vectors = dict()\n",
    "\n",
    "    for k, v in vec_group_dict.items():\n",
    "\n",
    "        group_vectors = [all_vectors[inst_id] for inst_id in v]\n",
    "        group_mean_vectors[k] = np.mean(group_vectors, axis = 0)\n",
    "        \n",
    "        if(k[0] == cnt_condition):\n",
    "            cnt_mean_vectors[k[1]] = np.mean(group_vectors, axis = 0)\n",
    "    \n",
    "    \n",
    "    # Stubtract the mean control vector from everything for each group. \n",
    "    \n",
    "    cnt_normed_mean_vectors = group_mean_vectors.copy()\n",
    "    \n",
    "    for k, v in group_mean_vectors.items():\n",
    "        \n",
    "        if k[1] in cnt_mean_vectors:\n",
    "            cnt_normed_mean_vectors[k] = v - cnt_mean_vectors[k[1]]\n",
    "        else:\n",
    "            cnt_normed_mean_vectors.pop(k)\n",
    "    \n",
    "    return cnt_normed_mean_vectors"
   ]
  },
  {
   "cell_type": "code",
   "execution_count": 128,
   "id": "24b7a939",
   "metadata": {},
   "outputs": [],
   "source": [
    "mean_vectors_native = get_mean_vec_from_control(lincs_vectors, pert_cell_vector_dict, cnt_condition = \"DMSO\")"
   ]
  },
  {
   "cell_type": "code",
   "execution_count": 133,
   "id": "eaf04970",
   "metadata": {},
   "outputs": [],
   "source": []
  },
  {
   "cell_type": "markdown",
   "id": "de57e24b",
   "metadata": {},
   "source": [
    "#### For each perturbation, get the cosine similarity between the mean responses for each cell"
   ]
  },
  {
   "cell_type": "code",
   "execution_count": 134,
   "id": "903ab2de",
   "metadata": {},
   "outputs": [
    {
     "name": "stderr",
     "output_type": "stream",
     "text": [
      "<ipython-input-2-a97f51e95e6b>:3: RuntimeWarning: invalid value encountered in float_scalars\n",
      "  return dot(a, b)/(norm(a)*norm(b))\n"
     ]
    }
   ],
   "source": [
    "def get_group_cos_sims(all_vectors, meta_df, grp_id = 'pert_iname', ind_id = 'cell_id'):\n",
    "    \n",
    "    # Remove any meta data entries tha don't have corresponding vectors\n",
    "    grps, inds = (zip(*mean_vectors_native.keys()))\n",
    "    meta_df =  meta_df.loc[(meta_df[grp_id].isin(grps)) & (meta_df[ind_id].isin(inds))]\n",
    "    \n",
    "    grp_cos_sims = dict()\n",
    "\n",
    "    for grp in set(meta_df[grp_id]):\n",
    "\n",
    "        keys = [(grp, ind) for ind in set(meta_df[meta_df[grp_id] == grp][ind_id])]\n",
    "\n",
    "        grp_vectors = [all_vectors[(grp, ind)] for (grp, ind) in keys]\n",
    "\n",
    "        grp_cos_sims[grp] = combs_cos_sim(grp_vectors)\n",
    "    \n",
    "    return grp_cos_sims\n",
    "\n",
    "native_cos_sims = get_group_cos_sims(mean_vectors_native, meta_data, grp_id = 'pert_iname', ind_id = 'cell_id')"
   ]
  },
  {
   "cell_type": "code",
   "execution_count": 135,
   "id": "ee4f179b",
   "metadata": {},
   "outputs": [
    {
     "data": {
      "text/plain": [
       "(array([ 37., 466., 580., 375., 260., 111.,  32.,   6.,   1.,  28.]),\n",
       " array([-0.2171576 , -0.09544184,  0.02627392,  0.14798968,  0.26970544,\n",
       "         0.3914212 ,  0.51313696,  0.63485272,  0.75656848,  0.87828424,\n",
       "         1.        ]),\n",
       " <BarContainer object of 10 artists>)"
      ]
     },
     "execution_count": 135,
     "metadata": {},
     "output_type": "execute_result"
    },
    {
     "data": {
      "image/png": "[encoded data removed]",
      "text/plain": [
       "<Figure size 432x288 with 1 Axes>"
      ]
     },
     "metadata": {
      "needs_background": "light"
     },
     "output_type": "display_data"
    }
   ],
   "source": [
    "plt.hist(native_cos_sims.values())"
   ]
  },
  {
   "cell_type": "code",
   "execution_count": 136,
   "id": "10a3fc1d",
   "metadata": {},
   "outputs": [],
   "source": [
    "def get_latent_rep(native_vectors, model_path):\n",
    "    \n",
    "    vectors_torch = dl.TorchVectors(list(native_vectors.items()))\n",
    "    val_loader = DataLoader(vectors_torch, batch_size=1, pin_memory=True, shuffle=False)\n",
    "\n",
    "    # Retrieve the architecture of the model\n",
    "    params = torch.load(model_path)\n",
    "    latent_size, input_size = params['state_dict']['net.0.weight'].shape\n",
    "    weights_encode = torch.nn.Parameter(params['state_dict']['net.0.weight'])\n",
    "    \n",
    "    # Initialize the encoding layer, apply weights\n",
    "    to_latent_nn = nn.Linear(input_size, latent_size, bias=False)\n",
    "    to_latent_nn.weight = weights_encode\n",
    "    to_latent_nn.eval()\n",
    "    to_latent_nn.cuda()\n",
    "    \n",
    "    output = dict()\n",
    "\n",
    "    for idx, batch in enumerate(val_loader):\n",
    "        \n",
    "        key, vals = batch[0][0], batch[1]\n",
    "        inputs = Variable(vals).cuda()\n",
    "        with torch.no_grad():\n",
    "            output[key] = to_latent_nn(inputs)\n",
    "    to_latent_nn.cpu()\n",
    "\n",
    "    latent_vectors = dict()\n",
    "\n",
    "    for key, vals in output.items():\n",
    "        latent_vectors[key] = vals.cpu().numpy()[0]\n",
    "    \n",
    "    return latent_vectors"
   ]
  },
  {
   "cell_type": "markdown",
   "id": "c4b42322",
   "metadata": {},
   "source": [
    "#### Now map to the latent space for a model before checking the improvement in alignment"
   ]
  },
  {
   "cell_type": "code",
   "execution_count": null,
   "id": "27040aef",
   "metadata": {},
   "outputs": [],
   "source": [
    "latent_vectors = get_latent_rep(lincs_vectors, \"../trained_model_parameters/1.8e-06_counts_leakyReLu_960_1400_model_best.pth\")"
   ]
  },
  {
   "cell_type": "code",
   "execution_count": null,
   "id": "44547523",
   "metadata": {},
   "outputs": [],
   "source": [
    "mean_vectors_latent = get_mean_vec_from_control(latent_vectors, pert_cell_vector_dict, cnt_condition = \"DMSO\")"
   ]
  },
  {
   "cell_type": "code",
   "execution_count": null,
   "id": "69833797",
   "metadata": {},
   "outputs": [],
   "source": [
    "latent_cos_sims = get_group_cos_sims(mean_vectors_latent, meta_data, grp_id = 'pert_iname', ind_id = 'cell_id')"
   ]
  },
  {
   "cell_type": "code",
   "execution_count": null,
   "id": "6d737bb9",
   "metadata": {},
   "outputs": [],
   "source": [
    "plt.hist(native_cos_sims.values(), alpha = 0.5)\n",
    "plt.hist(latent_cos_sims.values(), alpha = 0.5)"
   ]
  }
 ],
 "metadata": {
  "kernelspec": {
   "display_name": "Python 3",
   "language": "python",
   "name": "python3"
  },
  "language_info": {
   "codemirror_mode": {
    "name": "ipython",
    "version": 3
   },
   "file_extension": ".py",
   "mimetype": "text/x-python",
   "name": "python",
   "nbconvert_exporter": "python",
   "pygments_lexer": "ipython3",
   "version": "3.8.3"
  }
 },
 "nbformat": 4,
 "nbformat_minor": 5
}
