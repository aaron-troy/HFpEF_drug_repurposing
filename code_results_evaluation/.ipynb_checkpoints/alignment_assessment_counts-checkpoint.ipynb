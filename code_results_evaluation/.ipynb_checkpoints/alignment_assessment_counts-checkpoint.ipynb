{
 "cells": [
  {
   "cell_type": "code",
   "execution_count": 63,
   "id": "f646d2e7",
   "metadata": {},
   "outputs": [],
   "source": [
    "# Add path with autoencoding code\n",
    "import sys\n",
    "# caution: path[0] is reserved for script path (or '' in REPL)\n",
    "sys.path.insert(1, '../code_autoencoding')\n",
    "\n",
    "import numpy as np\n",
    "from numpy import dot\n",
    "from numpy.linalg import norm\n",
    "\n",
    "import pandas as pd\n",
    "import itertools\n",
    "from itertools import combinations\n",
    "\n",
    "import data_loader as dl\n",
    "import autoencoder\n",
    "import trainer\n",
    "import torch\n",
    "import torch.nn as nn\n",
    "from torch.utils.data import DataLoader, Dataset\n",
    "from torch.autograd import Variable\n",
    "\n",
    "from sklearn.decomposition import PCA\n",
    "import matplotlib.pyplot as plt"
   ]
  },
  {
   "cell_type": "code",
   "execution_count": 4,
   "id": "163cff91",
   "metadata": {},
   "outputs": [],
   "source": [
    "# Helper functions for getting cosine similarity from drug response vectors.\n",
    "def cos_sim(a,b):\n",
    "    return dot(a, b)/(norm(a)*norm(b))\n",
    "\n",
    "def combs_cos_sim(arr):\n",
    "\n",
    "    if len(arr) < 2:\n",
    "        #print(len(arr))\n",
    "        return 1\n",
    "    combs = list(combinations(np.arange(len(arr)), 2))\n",
    "    sims = [cos_sim(arr[c[0]], arr[c[1]]) for c in combs]\n",
    "\n",
    "    return np.mean(sims)"
   ]
  },
  {
   "cell_type": "markdown",
   "id": "aeb88aff",
   "metadata": {},
   "source": [
    "#### Read in both the data and meta data for LINCS level 2"
   ]
  },
  {
   "cell_type": "code",
   "execution_count": 43,
   "id": "a272c3fe",
   "metadata": {},
   "outputs": [
    {
     "name": "stderr",
     "output_type": "stream",
     "text": [
      "<ipython-input-43-bae9f8beb09d>:7: DtypeWarning: Columns (7) have mixed types. Specify dtype option on import or set low_memory=False.\n",
      "  meta_data = pd.read_csv(meta_data_path, sep = '\\t')\n"
     ]
    }
   ],
   "source": [
    "data_path = \"../data/shared_landmark_counts_vecs.gctx_n1269922x960.gctx\"\n",
    "lincs_data = dl.load_CMap(data_path)\n",
    "lincs_data = lincs_data.iloc[:, 0:100000]\n",
    "lincs_vectors = dict(dl.vectorize(lincs_data))\n",
    "\n",
    "meta_data_path  = \"../meta_data/GSE92742_Broad_LINCS_inst_info.txt\"\n",
    "meta_data = pd.read_csv(meta_data_path, sep = '\\t')"
   ]
  },
  {
   "cell_type": "markdown",
   "id": "1b1e1d1b",
   "metadata": {},
   "source": [
    "#### Remove meta data for which there is no reponse in the LINCS data "
   ]
  },
  {
   "cell_type": "code",
   "execution_count": 44,
   "id": "c75f0ebe",
   "metadata": {},
   "outputs": [],
   "source": [
    "meta_data = meta_data[meta_data['inst_id'].isin(lincs_data.columns)]"
   ]
  },
  {
   "cell_type": "markdown",
   "id": "84a51a5f",
   "metadata": {},
   "source": [
    "#### Get the vector IDs (inst_id's) corresponding to each pertubation-cell combination"
   ]
  },
  {
   "cell_type": "code",
   "execution_count": 45,
   "id": "4c59e3b9",
   "metadata": {},
   "outputs": [],
   "source": [
    "def get_pert_cell_combs(meta_df):\n",
    "    \n",
    "    pert_cell_combs = itertools.product(set(meta_df.cell_id), set(meta_df.pert_iname))\n",
    "    pert_cell_combs = list(set(zip(meta_df.pert_iname, meta_df.cell_id)))\n",
    "    \n",
    "    vec_ids = dict()\n",
    "    \n",
    "    for c in pert_cell_combs:\n",
    "        vec_ids[c] = meta_df.loc[(meta_df['pert_iname'] == c[0]) & (meta_df['cell_id'] == c[1])]['inst_id']\n",
    "    \n",
    "    return vec_ids\n",
    "\n",
    "pert_cell_vector_dict = get_pert_cell_combs(meta_data)"
   ]
  },
  {
   "cell_type": "markdown",
   "id": "3852a7f3",
   "metadata": {},
   "source": [
    "#### Compute the mean vector for each pertubation-cell combination. This is the average response for a given cell type and drug in the native space.  Store the mean response to DMSO separately."
   ]
  },
  {
   "cell_type": "code",
   "execution_count": 46,
   "id": "87491c5f",
   "metadata": {},
   "outputs": [],
   "source": [
    "def get_mean_vec_from_control(all_vectors, vec_group_dict, cnt_condition = \"DMSO\"):\n",
    "    \n",
    "    group_mean_vectors = dict()\n",
    "    cnt_mean_vectors = dict()\n",
    "\n",
    "    for k, v in vec_group_dict.items():\n",
    "\n",
    "        group_vectors = [all_vectors[inst_id] for inst_id in v]\n",
    "        group_mean_vectors[k] = np.mean(group_vectors, axis = 0)\n",
    "        \n",
    "        if(k[0] == cnt_condition):\n",
    "            \n",
    "            cnt_mean_vectors[k[1]] = np.mean(group_vectors, axis = 0)\n",
    "            \n",
    "            if k[1] == 'A549':\n",
    "                pca = PCA(n_components=2)\n",
    "                pc_df = pd.DataFrame(data = pca.fit_transform(group_vectors), columns = ['PC1', 'PC2'])\n",
    "                plt.scatter(pc_df.PC1, pc_df.PC2)\n",
    "                plt.show()\n",
    "    \n",
    "    # Stubtract the mean control vector from everything for each group. \n",
    "    \n",
    "    cnt_normed_mean_vectors = group_mean_vectors.copy()\n",
    "    \n",
    "    for k, v in group_mean_vectors.items():\n",
    "        \n",
    "        if k[1] == cnt_condition:\n",
    "            cnt_normed_mean_vectors.pop(k)\n",
    "        elif k[1] in cnt_mean_vectors:\n",
    "            cnt_normed_mean_vectors[k] = v - cnt_mean_vectors[k[1]]\n",
    "        else:\n",
    "            cnt_normed_mean_vectors.pop(k)\n",
    "    \n",
    "    return cnt_normed_mean_vectors"
   ]
  },
  {
   "cell_type": "code",
   "execution_count": 47,
   "id": "3cb65b6f",
   "metadata": {},
   "outputs": [],
   "source": [
    "mean_vectors_native = get_mean_vec_from_control(lincs_vectors, pert_cell_vector_dict, cnt_condition = \"DMSO\")"
   ]
  },
  {
   "cell_type": "markdown",
   "id": "2f85495a",
   "metadata": {},
   "source": [
    "#### For each perturbation, get the cosine similarity between the mean responses for each cell"
   ]
  },
  {
   "cell_type": "code",
   "execution_count": 48,
   "id": "7b7d48ce",
   "metadata": {},
   "outputs": [
    {
     "name": "stderr",
     "output_type": "stream",
     "text": [
      "<ipython-input-4-a97f51e95e6b>:3: RuntimeWarning: invalid value encountered in float_scalars\n",
      "  return dot(a, b)/(norm(a)*norm(b))\n"
     ]
    }
   ],
   "source": [
    "def get_group_cos_sims(all_vectors, meta_df, grp_id = 'pert_iname', ind_id = 'cell_id'):\n",
    "    \n",
    "    # Remove any meta data entries tha don't have corresponding vectors\n",
    "    grps, inds = (zip(*mean_vectors_native.keys()))\n",
    "    meta_df =  meta_df.loc[(meta_df[grp_id].isin(grps)) & (meta_df[ind_id].isin(inds))]\n",
    "    \n",
    "    grp_cos_sims = dict()\n",
    "\n",
    "    for grp in set(meta_df[grp_id]):\n",
    "\n",
    "        keys = [(grp, ind) for ind in set(meta_df[meta_df[grp_id] == grp][ind_id])]\n",
    "\n",
    "        grp_vectors = [all_vectors[(grp, ind)] for (grp, ind) in keys]\n",
    "\n",
    "        grp_cos_sims[grp] = combs_cos_sim(grp_vectors)\n",
    "    \n",
    "    return grp_cos_sims\n",
    "\n",
    "native_cos_sims = get_group_cos_sims(mean_vectors_native, meta_data, grp_id = 'pert_iname', ind_id = 'cell_id')"
   ]
  },
  {
   "cell_type": "code",
   "execution_count": 49,
   "id": "97f6bd51",
   "metadata": {},
   "outputs": [
    {
     "data": {
      "text/plain": [
       "(array([  7.,   5., 138., 796., 517., 218., 155., 103.,  30.,  13.]),\n",
       " array([-0.39860484, -0.28413355, -0.16966227, -0.05519097,  0.05928032,\n",
       "         0.17375161,  0.28822291,  0.4026942 ,  0.51716548,  0.63163674,\n",
       "         0.74610806]),\n",
       " <BarContainer object of 10 artists>)"
      ]
     },
     "execution_count": 49,
     "metadata": {},
     "output_type": "execute_result"
    },
    {
     "data": {
      "image/png": "[encoded data removed]",
      "text/plain": [
       "<Figure size 432x288 with 1 Axes>"
      ]
     },
     "metadata": {
      "needs_background": "light"
     },
     "output_type": "display_data"
    }
   ],
   "source": [
    "plt.hist(native_cos_sims.values())"
   ]
  },
  {
   "cell_type": "code",
   "execution_count": 50,
   "id": "d2fb8513",
   "metadata": {},
   "outputs": [],
   "source": [
    "def get_latent_rep(native_vectors, model_path):\n",
    "    \n",
    "    vectors_torch = dl.TorchVectors(list(native_vectors.items()))\n",
    "    val_loader = DataLoader(vectors_torch, batch_size=1, pin_memory=True, shuffle=False)\n",
    "\n",
    "    # Retrieve the architecture of the model\n",
    "    params = torch.load(model_path)\n",
    "    latent_size, input_size = params['state_dict']['net.0.weight'].shape\n",
    "    weights_encode = torch.nn.Parameter(params['state_dict']['net.0.weight'])\n",
    "    \n",
    "    # Initialize the encoding layer, apply weights\n",
    "    to_latent_nn = nn.Linear(input_size, latent_size, bias=False)\n",
    "    to_latent_nn.weight = weights_encode\n",
    "    to_latent_nn.eval()\n",
    "    to_latent_nn.cuda()\n",
    "    \n",
    "    output = dict()\n",
    "\n",
    "    for idx, batch in enumerate(val_loader):\n",
    "        \n",
    "        key, vals = batch[0][0], batch[1]\n",
    "        inputs = Variable(vals).cuda()\n",
    "        with torch.no_grad():\n",
    "            output[key] = to_latent_nn(inputs)\n",
    "    to_latent_nn.cpu()\n",
    "\n",
    "    latent_vectors = dict()\n",
    "\n",
    "    for key, vals in output.items():\n",
    "        latent_vectors[key] = vals.cpu().numpy()[0]\n",
    "    \n",
    "    return latent_vectors"
   ]
  },
  {
   "cell_type": "markdown",
   "id": "d2a3313f",
   "metadata": {},
   "source": [
    "#### Now map to the latent space for a model before checking the improvement in alignment"
   ]
  },
  {
   "cell_type": "code",
   "execution_count": 57,
   "id": "eab06491",
   "metadata": {},
   "outputs": [],
   "source": [
    "latent_vectors = get_latent_rep(lincs_vectors, \"../trained_model_parameters/5.93e-06_counts150epoch_leakyReLu_960_1024_model_best.pth\")"
   ]
  },
  {
   "cell_type": "code",
   "execution_count": 58,
   "id": "86b846b3",
   "metadata": {},
   "outputs": [],
   "source": [
    "mean_vectors_latent = get_mean_vec_from_control(latent_vectors, pert_cell_vector_dict, cnt_condition = \"DMSO\")"
   ]
  },
  {
   "cell_type": "code",
   "execution_count": 59,
   "id": "7ba9f7b2",
   "metadata": {},
   "outputs": [
    {
     "name": "stderr",
     "output_type": "stream",
     "text": [
      "<ipython-input-4-a97f51e95e6b>:3: RuntimeWarning: invalid value encountered in float_scalars\n",
      "  return dot(a, b)/(norm(a)*norm(b))\n"
     ]
    }
   ],
   "source": [
    "latent_cos_sims = get_group_cos_sims(mean_vectors_latent, meta_data, grp_id = 'pert_iname', ind_id = 'cell_id')"
   ]
  },
  {
   "cell_type": "code",
   "execution_count": 60,
   "id": "216d8d53",
   "metadata": {},
   "outputs": [
    {
     "data": {
      "text/plain": [
       "(array([ 14.,   1.,   2., 158., 988., 376., 104.,  59.,  86., 194.]),\n",
       " array([-0.91819668, -0.7288816 , -0.53956652, -0.35025141, -0.16093633,\n",
       "         0.02837875,  0.21769384,  0.40700892,  0.59632403,  0.78563911,\n",
       "         0.97495419]),\n",
       " <BarContainer object of 10 artists>)"
      ]
     },
     "execution_count": 60,
     "metadata": {},
     "output_type": "execute_result"
    },
    {
     "data": {
      "image/png": "[encoded data removed]",
      "text/plain": [
       "<Figure size 432x288 with 1 Axes>"
      ]
     },
     "metadata": {
      "needs_background": "light"
     },
     "output_type": "display_data"
    }
   ],
   "source": [
    "plt.hist(native_cos_sims.values(), alpha = 0.5)\n",
    "plt.hist(latent_cos_sims.values(), alpha = 0.5)"
   ]
  },
  {
   "cell_type": "code",
   "execution_count": 61,
   "id": "e2b40bf5",
   "metadata": {},
   "outputs": [
    {
     "data": {
      "text/plain": [
       "100000"
      ]
     },
     "execution_count": 61,
     "metadata": {},
     "output_type": "execute_result"
    }
   ],
   "source": [
    "len(list(lincs_vectors.values()))"
   ]
  },
  {
   "cell_type": "code",
   "execution_count": 62,
   "id": "3a428323",
   "metadata": {},
   "outputs": [
    {
     "data": {
      "text/plain": [
       "<matplotlib.collections.PathCollection at 0x222281d04f0>"
      ]
     },
     "execution_count": 62,
     "metadata": {},
     "output_type": "execute_result"
    },
    {
     "data": {
      "image/png": "[encoded data removed]",
      "text/plain": [
       "<Figure size 432x288 with 1 Axes>"
      ]
     },
     "metadata": {
      "needs_background": "light"
     },
     "output_type": "display_data"
    }
   ],
   "source": [
    "plt.scatter(native_cos_sims.values(), latent_cos_sims.values())"
   ]
  },
  {
   "cell_type": "code",
   "execution_count": null,
   "id": "f01747fd",
   "metadata": {},
   "outputs": [],
   "source": []
  }
 ],
 "metadata": {
  "kernelspec": {
   "display_name": "Python 3",
   "language": "python",
   "name": "python3"
  },
  "language_info": {
   "codemirror_mode": {
    "name": "ipython",
    "version": 3
   },
   "file_extension": ".py",
   "mimetype": "text/x-python",
   "name": "python",
   "nbconvert_exporter": "python",
   "pygments_lexer": "ipython3",
   "version": "3.8.3"
  }
 },
 "nbformat": 4,
 "nbformat_minor": 5
}
