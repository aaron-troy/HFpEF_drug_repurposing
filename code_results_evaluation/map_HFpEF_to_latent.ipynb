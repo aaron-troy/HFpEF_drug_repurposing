{
 "cells": [
  {
   "cell_type": "code",
   "execution_count": 1,
   "metadata": {},
   "outputs": [],
   "source": [
    "import torch\n",
    "import torch.nn as nn\n",
    "from cmapPy.pandasGEXpress.parse import parse\n",
    "import data_loader as dl\n",
    "from torch.utils.data import DataLoader, Dataset\n",
    "from torch.autograd import Variable\n",
    "import torch.nn.functional as F\n",
    "import numpy as np\n",
    "import pandas as pd\n",
    "\n",
    "\n",
    "import data_loader as dl\n",
    "import autoencoder\n",
    "import glob"
   ]
  },
  {
   "cell_type": "code",
   "execution_count": 28,
   "metadata": {},
   "outputs": [
    {
     "data": {
      "text/plain": [
       "['trained_model_params/modZ_input\\\\0.00233913_leakyReLu_960_1400_model_best.pth',\n",
       " 'trained_model_params/modZ_input\\\\0.00236055_leakyReLu_960_1200_model_best.pth',\n",
       " 'trained_model_params/modZ_input\\\\0.00236989_leakyReLu_960_1300_model_best.pth',\n",
       " 'trained_model_params/modZ_input\\\\0.00237588_leakyReLu_960_1000_model_best.pth',\n",
       " 'trained_model_params/modZ_input\\\\0.00238399_leakyReLu_960_1100_model_best.pth',\n",
       " 'trained_model_params/modZ_input\\\\0.09155359_leakyReLu_960_700_model_best.pth']"
      ]
     },
     "execution_count": 28,
     "metadata": {},
     "output_type": "execute_result"
    }
   ],
   "source": [
    "#param_path = \"trained_model_params/modZ_input/0.00237588_leakyReLu_960_1000_model_best.pth\"\n",
    "files"
   ]
  },
  {
   "cell_type": "code",
   "execution_count": 3,
   "metadata": {},
   "outputs": [
    {
     "name": "stdout",
     "output_type": "stream",
     "text": [
      "trained_model_params/modZ_input\\0.00233913_leakyReLu_960_1400_model_best.pth\n",
      "tensor(0.0002, dtype=torch.float64, grad_fn=<MseLossBackward0>)\n",
      "trained_model_params/modZ_input\\0.00236055_leakyReLu_960_1200_model_best.pth\n",
      "tensor(0.0004, dtype=torch.float64, grad_fn=<MseLossBackward0>)\n",
      "trained_model_params/modZ_input\\0.00236989_leakyReLu_960_1300_model_best.pth\n",
      "tensor(0.0004, dtype=torch.float64, grad_fn=<MseLossBackward0>)\n",
      "trained_model_params/modZ_input\\0.00237588_leakyReLu_960_1000_model_best.pth\n",
      "tensor(0.0003, dtype=torch.float64, grad_fn=<MseLossBackward0>)\n",
      "trained_model_params/modZ_input\\0.00238399_leakyReLu_960_1100_model_best - Copy.pth\n",
      "tensor(0.0002, dtype=torch.float64, grad_fn=<MseLossBackward0>)\n",
      "trained_model_params/modZ_input\\0.00238399_leakyReLu_960_1100_model_best.pth\n",
      "tensor(0.0002, dtype=torch.float64, grad_fn=<MseLossBackward0>)\n",
      "trained_model_params/modZ_input\\0.09155359_leakyReLu_960_700_model_best.pth\n",
      "tensor(6.0070, dtype=torch.float64, grad_fn=<MseLossBackward0>)\n"
     ]
    }
   ],
   "source": [
    "data_path = \"input_data/HF_LM_genes_DEG_data.csv\"\n",
    "pEF_vector_in = np.array(pd.read_csv(data_path).z_score_PEF)\n",
    "pEF_vector_in = torch.from_numpy(pEF_vector_in).double()\n",
    "\n",
    "files = glob.glob(\"trained_model_params/modZ_input/*.pth\")\n",
    "criterion = nn.MSELoss()\n",
    "\n",
    "for f in files:\n",
    "    \n",
    "    # Load parameters from training\n",
    "    params = torch.load(f)\n",
    "    \n",
    "    # Get the dimensions of the first layer and the weights\n",
    "    latent_size, input_size = params['state_dict']['net.0.weight'].shape\n",
    "    \n",
    "    AE = autoencoder.Autoencoder(input_size,latent_size)\n",
    "    AE.set_weights(params)\n",
    "    AE.double()\n",
    "    AE.cpu()\n",
    "\n",
    "    pEF_vector_out = AE(pEF_vector_in)\n",
    "\n",
    "    loss = criterion(pEF_vector_in, pEF_vector_out)\n",
    "    print(f)\n",
    "    print(loss)\n",
    "    \n"
   ]
  },
  {
   "cell_type": "code",
   "execution_count": 4,
   "metadata": {},
   "outputs": [],
   "source": [
    "params = torch.load(\"0.00189921_drugsOnly_leakyReLu_960_1100_model_best.pth\")\n",
    "# Get the dimensions of the first layer and the weights\n",
    "latent_size, input_size = params['state_dict']['net.0.weight'].shape\n",
    "weights_encode = torch.nn.Parameter(params['state_dict']['net.0.weight'])\n",
    "\n",
    "# Initialize an encoding layer, apply weights\n",
    "to_latent_nn = nn.Linear(input_size, latent_size, bias=False)\n",
    "to_latent_nn.weight = weights_encode\n",
    "to_latent_nn.double()\n",
    "to_latent_nn.eval()\n",
    "\n",
    "pEF_vector_latent = to_latent_nn(pEF_vector_in)"
   ]
  },
  {
   "cell_type": "code",
   "execution_count": 5,
   "metadata": {},
   "outputs": [],
   "source": [
    "pd.DataFrame(pEF_vector_latent.detach().numpy(), columns = ['pEF_vector']).to_csv('HFpEF_latent_vector.csv', index = False)"
   ]
  },
  {
   "cell_type": "code",
   "execution_count": null,
   "metadata": {},
   "outputs": [],
   "source": []
  }
 ],
 "metadata": {
  "kernelspec": {
   "display_name": "Python 3",
   "language": "python",
   "name": "python3"
  },
  "language_info": {
   "codemirror_mode": {
    "name": "ipython",
    "version": 3
   },
   "file_extension": ".py",
   "mimetype": "text/x-python",
   "name": "python",
   "nbconvert_exporter": "python",
   "pygments_lexer": "ipython3",
   "version": "3.8.3"
  }
 },
 "nbformat": 4,
 "nbformat_minor": 1
}
