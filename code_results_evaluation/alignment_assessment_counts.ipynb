{
 "cells": [
  {
   "cell_type": "code",
   "execution_count": 1,
   "id": "fd52eb9e",
   "metadata": {},
   "outputs": [],
   "source": [
    "# Add path with autoencoding code\n",
    "import sys\n",
    "# caution: path[0] is reserved for script path (or '' in REPL)\n",
    "sys.path.insert(1, '../code_autoencoding')\n",
    "\n",
    "import numpy as np\n",
    "from numpy import dot\n",
    "from numpy.linalg import norm\n",
    "\n",
    "import pandas as pd\n",
    "\n",
    "import glob\n",
    "import itertools\n",
    "from itertools import combinations\n",
    "\n",
    "import data_loader as dl\n",
    "import autoencoder\n",
    "import trainer\n",
    "import torch\n",
    "import torch.nn as nn\n",
    "from torch.utils.data import DataLoader, Dataset\n",
    "from torch.autograd import Variable\n",
    "\n",
    "from sklearn.decomposition import PCA\n",
    "from sklearn.cluster import KMeans\n",
    "import matplotlib.pyplot as plt"
   ]
  },
  {
   "cell_type": "code",
   "execution_count": 2,
   "id": "6b3f5a59",
   "metadata": {},
   "outputs": [],
   "source": [
    "# Helper functions for getting cosine similarity from drug response vectors.\n",
    "\n",
    "# Function: compute and return the cosine similarity between two arrays\n",
    "def cos_sim(a,b):\n",
    "    return dot(a, b)/(norm(a)*norm(b))\n",
    "\n",
    "# Function: computes and returns the cosine simiarities between all combinations of the vectors in the passed array. \n",
    "# Set flag mean = True to return the mean cosine simarity rather than an array of all similarities \n",
    "def combs_cos_sim(arr, mean = True):\n",
    "\n",
    "    if len(arr) < 2:\n",
    "        #print(len(arr))\n",
    "        return 1\n",
    "    combs = list(combinations(np.arange(len(arr)), 2))\n",
    "    sims = [cos_sim(arr[c[0]], arr[c[1]]) for c in combs]\n",
    "    \n",
    "    if mean: \n",
    "        return np.mean(sims)\n",
    "    else:\n",
    "        return sims"
   ]
  },
  {
   "cell_type": "markdown",
   "id": "fbb8fadc",
   "metadata": {},
   "source": [
    "#### Read in both the data and meta data for LINCS level 2"
   ]
  },
  {
   "cell_type": "code",
   "execution_count": 3,
   "id": "7f3e82f9",
   "metadata": {},
   "outputs": [],
   "source": [
    "data_path = \"../data/shared_landmark_counts_vecs.gctx_n1269922x960.gctx\"\n",
    "lincs_data = dl.load_CMap(data_path)\n",
    "#lincs_data = lincs_data.iloc[:,0:50000]\n",
    "lincs_data = lincs_data.iloc[:, np.random.choice(np.arange(lincs_data.shape[1]), size=500000, replace=False)]\n",
    "lincs_vectors = dict(dl.vectorize(lincs_data))\n",
    "\n"
   ]
  },
  {
   "cell_type": "code",
   "execution_count": 4,
   "id": "4354701d",
   "metadata": {},
   "outputs": [
    {
     "name": "stderr",
     "output_type": "stream",
     "text": [
      "<ipython-input-4-aa6d47874146>:2: DtypeWarning: Columns (7) have mixed types. Specify dtype option on import or set low_memory=False.\n",
      "  meta_data = pd.read_csv(meta_data_path, sep = '\\t')\n"
     ]
    }
   ],
   "source": [
    "meta_data_path  = \"../meta_data/GSE92742_Broad_LINCS_inst_info.txt\"\n",
    "meta_data = pd.read_csv(meta_data_path, sep = '\\t')\n",
    "\n",
    "meta_data['pert_time'] = meta_data['pert_time'].apply(str)\n",
    "meta_data['pert_dose'] = meta_data['pert_dose'].apply(str)\n",
    "meta_data['appPert_id'] = meta_data[['pert_iname', 'pert_dose', 'pert_time']].agg('_'.join, axis=1)"
   ]
  },
  {
   "cell_type": "markdown",
   "id": "3074766f",
   "metadata": {},
   "source": [
    "#### Remove meta data for which there is no reponse in the LINCS data "
   ]
  },
  {
   "cell_type": "code",
   "execution_count": 5,
   "id": "1fea026b",
   "metadata": {},
   "outputs": [],
   "source": [
    "meta_data = meta_data[meta_data['inst_id'].isin(lincs_data.columns)]"
   ]
  },
  {
   "cell_type": "markdown",
   "id": "05dc39ad",
   "metadata": {},
   "source": [
    "#### Get the vector IDs (inst_id's) corresponding to each pertubation-cell combination"
   ]
  },
  {
   "cell_type": "code",
   "execution_count": 6,
   "id": "134b1103",
   "metadata": {},
   "outputs": [],
   "source": [
    "def get_pert_cell_combs(meta_df, pert_ident = 'pert_iname', cell_list = False):\n",
    "    \n",
    "    # Strip the meta data to include only the cell types of interest, if desired. \n",
    "    if (cell_list != False):\n",
    "        meta_df = meta_df[meta_df['cell_id'].isin(cell_list)]\n",
    "    \n",
    "    # Get a list of perturbation, cell, and instance combinations \n",
    "    pert_cell_combs = list((zip(meta_df[pert_ident], meta_df.cell_id, meta_df.inst_id)))\n",
    "    \n",
    "    # Construct a dict that maps a perturbation and cell combination to a list of associated vector IDs\n",
    "    vec_ids = dict()\n",
    "    \n",
    "    for i in range(len(pert_cell_combs)):\n",
    "        pert, cell, inst = pert_cell_combs[i]\n",
    "        \n",
    "        if (pert,cell) in vec_ids:\n",
    "            vec_ids[(pert, cell)].append(inst)\n",
    "        else:\n",
    "            vec_ids[(pert,cell)] = [inst]\n",
    "    \n",
    "    return vec_ids\n",
    "\n",
    "cells = ['MCF7','A375','HT29','PC3','HA1E','YAPC','HELA']\n",
    "pert_cell_vector_dict = get_pert_cell_combs(meta_data, pert_ident = 'pert_iname', cell_list = False)"
   ]
  },
  {
   "cell_type": "markdown",
   "id": "511e5f18",
   "metadata": {},
   "source": [
    "#### Compute the mean vector for each pertubation-cell combination. This is the average response for a given cell type and drug in the native space.  Store the mean response to DMSO separately."
   ]
  },
  {
   "cell_type": "code",
   "execution_count": 7,
   "id": "ff626912",
   "metadata": {},
   "outputs": [],
   "source": [
    "def get_mean_vec_from_control(all_vectors, vec_group_dict, cnt_condition = \"DMSO\", batch_cor = True):\n",
    "    \n",
    "    group_mean_vectors = dict()\n",
    "    cnt_mean_vectors = dict()\n",
    "\n",
    "    for k, v in vec_group_dict.items():\n",
    "        \n",
    "        # Get all the vectors within the cell-pert group\n",
    "        group_vectors = {inst_id:(all_vectors[inst_id]) for inst_id in v}\n",
    "\n",
    "        # If we're looking at the control condition for a cell, keep the mean separate. \n",
    "        # Use PCA + k-means clustering to eliminate samples from the smaller batch\n",
    "        if(cnt_condition in k[0]):\n",
    "            \n",
    "            # Often the control response will contain more than one cluster due to batch effects. Using only the largest cluster\n",
    "            # for normalization cleans things up. \n",
    "            if batch_cor and len(group_vectors) > 1:\n",
    "                # PCA\n",
    "                pca = PCA(n_components=2)\n",
    "\n",
    "                pc_df = pd.DataFrame(data = pca.fit_transform(list(group_vectors.values())), columns = ['PC1', 'PC2'])\n",
    "\n",
    "                # Clustering\n",
    "                kmeans = KMeans(n_clusters=2)\n",
    "                kmeans.fit(pc_df)\n",
    "                pc_df['clusters'] = list(kmeans.labels_)\n",
    "                pc_df['keys'] = group_vectors.keys()\n",
    "\n",
    "                # Visualize for sanity\n",
    "                #plt.scatter(pc_df.PC1, pc_df.PC2, c = pc_df.clusters)\n",
    "                #plt.show()\n",
    "\n",
    "                # Drop samples from the smaller cluster\n",
    "                largest_cluster = max(set(pc_df.clusters), key = list(pc_df.clusters).count)\n",
    "                cnt_keep = pc_df[pc_df.clusters == largest_cluster]['keys']              \n",
    "\n",
    "                cnt_mean_vectors[k[1]] = np.mean([group_vectors[keep] for keep in cnt_keep], axis = 0)\n",
    "                    \n",
    "            else:\n",
    "                cnt_mean_vectors[k[1]] = np.mean(list(group_vectors.values()), axis = 0)\n",
    "                \n",
    "        else:\n",
    "            # Compute the mean vector for each group\n",
    "            group_mean_vectors[k] = np.mean(list(group_vectors.values()), axis = 0)\n",
    "                \n",
    "    \n",
    "    # Stubtract the mean control vector from everything for each group. Drop cnt vectors and those without a control\n",
    "    cnt_normed_mean_vectors = group_mean_vectors.copy()\n",
    "    \n",
    "    for k, v in group_mean_vectors.items():\n",
    "        \n",
    "        if k[1] == cnt_condition:\n",
    "            cnt_normed_mean_vectors.pop(k)\n",
    "        elif k[1] in cnt_mean_vectors:\n",
    "            cnt_normed_mean_vectors[k] = v - cnt_mean_vectors[k[1]]\n",
    "        else:\n",
    "            cnt_normed_mean_vectors.pop(k)\n",
    "    \n",
    "    return cnt_normed_mean_vectors"
   ]
  },
  {
   "cell_type": "code",
   "execution_count": 8,
   "id": "8b2bc659",
   "metadata": {},
   "outputs": [],
   "source": [
    "mean_vectors_native = get_mean_vec_from_control(lincs_vectors, pert_cell_vector_dict, cnt_condition = \"DMSO\", batch_cor = True)"
   ]
  },
  {
   "cell_type": "markdown",
   "id": "f6ae8744",
   "metadata": {},
   "source": [
    "#### For each perturbation, get the cosine similarity between the mean responses for each cell"
   ]
  },
  {
   "cell_type": "code",
   "execution_count": 9,
   "id": "22c0a235",
   "metadata": {},
   "outputs": [],
   "source": [
    "def get_group_cos_sims(all_vectors, meta_df, grp_id = 'pert_iname', ind_id = 'cell_id', mean = True):\n",
    "    \n",
    "    # Remove any meta data entries tha don't have corresponding vectors\n",
    "    grps, inds = (zip(*mean_vectors_native.keys()))\n",
    "    meta_df =  meta_df.loc[(meta_df[grp_id].isin(grps)) & (meta_df[ind_id].isin(inds))]\n",
    "    \n",
    "    grp_cos_sims = dict()\n",
    "\n",
    "    for grp in set(meta_df[grp_id]):\n",
    "\n",
    "        keys = [(grp, ind) for ind in set(meta_df[meta_df[grp_id] == grp][ind_id])]\n",
    "\n",
    "        grp_vectors = [all_vectors[(grp, ind)] for (grp, ind) in keys]\n",
    "        \n",
    "        if (len(grp_vectors) > 1):\n",
    "            grp_cos_sims[grp] = combs_cos_sim(grp_vectors, mean = mean)\n",
    "    \n",
    "    return grp_cos_sims\n",
    "\n",
    "native_cos_sims = get_group_cos_sims(mean_vectors_native, meta_data, grp_id = 'pert_iname', ind_id = 'cell_id', mean = False)"
   ]
  },
  {
   "cell_type": "code",
   "execution_count": 10,
   "id": "be91af58",
   "metadata": {},
   "outputs": [
    {
     "data": {
      "text/plain": [
       "(array([  4109.,  15717.,  36997.,  74302., 129797., 148285., 109392.,\n",
       "         70002.,  37953.,  30296.]),\n",
       " array([-0.9627282 , -0.76827145, -0.57381469, -0.3793579 , -0.18490115,\n",
       "         0.00955561,  0.20401236,  0.39846912,  0.59292591,  0.78738266,\n",
       "         0.98183942]),\n",
       " <BarContainer object of 10 artists>)"
      ]
     },
     "execution_count": 10,
     "metadata": {},
     "output_type": "execute_result"
    },
    {
     "data": {
      "image/png": "[encoded data removed]",
      "text/plain": [
       "<Figure size 432x288 with 1 Axes>"
      ]
     },
     "metadata": {
      "needs_background": "light"
     },
     "output_type": "display_data"
    }
   ],
   "source": [
    "plt.hist([item for sublist in list(native_cos_sims.values()) for item in sublist])"
   ]
  },
  {
   "cell_type": "code",
   "execution_count": 10,
   "id": "c451983c",
   "metadata": {},
   "outputs": [],
   "source": [
    "def get_latent_rep(native_vectors, model_path):\n",
    "    \n",
    "    #import imp\n",
    "    #imp.reload(module)\n",
    "    \n",
    "    vectors_torch = dl.TorchVectors(list(native_vectors.items()))\n",
    "    val_loader = DataLoader(vectors_torch, batch_size=1, pin_memory=True, shuffle=False)\n",
    "\n",
    "    # Retrieve the architecture of the model\n",
    "    params = torch.load(model_path)\n",
    "    latent_size, input_size = params['state_dict']['net.0.weight'].shape\n",
    "    weights_encode = torch.nn.Parameter(params['state_dict']['net.0.weight'])\n",
    "    \n",
    "    # Initialize the encoding layer, apply weights\n",
    "    to_latent_nn = nn.Linear(input_size, latent_size, bias=False)\n",
    "    to_latent_nn.weight = weights_encode\n",
    "    to_latent_nn.eval()\n",
    "    to_latent_nn.cuda()\n",
    "    \n",
    "    output = dict()\n",
    "\n",
    "    for idx, batch in enumerate(val_loader):\n",
    "        \n",
    "        key, vals = batch[0][0], batch[1]\n",
    "        inputs = Variable(vals).cuda()\n",
    "        with torch.no_grad():\n",
    "            output[key] = to_latent_nn(inputs)\n",
    "    to_latent_nn.cpu()\n",
    "\n",
    "    latent_vectors = dict()\n",
    "\n",
    "    for key, vals in output.items():\n",
    "        latent_vectors[key] = vals.cpu().numpy()[0]\n",
    "    \n",
    "    return latent_vectors"
   ]
  },
  {
   "cell_type": "markdown",
   "id": "1c67ab47",
   "metadata": {},
   "source": [
    "#### Now map to the latent space for a model before checking the improvement in alignment"
   ]
  },
  {
   "cell_type": "code",
   "execution_count": null,
   "id": "d88fc7c3",
   "metadata": {},
   "outputs": [],
   "source": [
    "latent_vectors = get_latent_rep(lincs_vectors, \"../trained_model_parameters/LeakyReLu/5.93e-06_counts150epoch_leakyReLu_960_1024_model_best.pth\")"
   ]
  },
  {
   "cell_type": "code",
   "execution_count": null,
   "id": "c5284062",
   "metadata": {
    "scrolled": false
   },
   "outputs": [],
   "source": [
    "mean_vectors_latent = get_mean_vec_from_control(latent_vectors, pert_cell_vector_dict, cnt_condition = \"DMSO\", batch_cor = True)"
   ]
  },
  {
   "cell_type": "code",
   "execution_count": null,
   "id": "ce150def",
   "metadata": {},
   "outputs": [],
   "source": [
    "latent_cos_sims = get_group_cos_sims(mean_vectors_latent, meta_data, grp_id = 'pert_iname', ind_id = 'cell_id', mean = False)"
   ]
  },
  {
   "cell_type": "code",
   "execution_count": null,
   "id": "8fde4569",
   "metadata": {},
   "outputs": [],
   "source": [
    "len(latent_cos_sims)"
   ]
  },
  {
   "cell_type": "code",
   "execution_count": null,
   "id": "1b68b784",
   "metadata": {},
   "outputs": [],
   "source": [
    "plt.hist([item for sublist in list(native_cos_sims.values()) for item in sublist], alpha = 0.5)\n",
    "plt.hist([item for sublist in list(latent_cos_sims.values()) for item in sublist], alpha = 0.5)"
   ]
  },
  {
   "cell_type": "code",
   "execution_count": null,
   "id": "060276f8",
   "metadata": {},
   "outputs": [],
   "source": [
    "plt.scatter([item for sublist in list(native_cos_sims.values()) for item in sublist], [item for sublist in list(latent_cos_sims.values()) for item in sublist])"
   ]
  },
  {
   "cell_type": "markdown",
   "id": "95b13c10",
   "metadata": {},
   "source": [
    "#### Do this in a loop to evaluate multiple architectures"
   ]
  },
  {
   "cell_type": "code",
   "execution_count": 11,
   "id": "ee2697e8",
   "metadata": {},
   "outputs": [],
   "source": [
    "files = glob.glob('../trained_model_parameters/LeakyReLu/*.pth')\n",
    "\n",
    "eval_df = pd.DataFrame(columns = ['File', 'Non-linearity', 'Latent dimension', 'Loss (1e-6)', 'Abs. Alignment'])\n",
    "\n",
    "for f in files:\n",
    "    \n",
    "    latent_vectors = get_latent_rep(lincs_vectors, f)\n",
    "    \n",
    "    mean_vectors_latent = get_mean_vec_from_control(latent_vectors, pert_cell_vector_dict, cnt_condition = \"DMSO\", batch_cor = True)\n",
    "    \n",
    "    latent_cos_sims = get_group_cos_sims(mean_vectors_latent, meta_data, grp_id = 'pert_iname', ind_id = 'cell_id', mean = False)\n",
    "    \n",
    "    file = '_'.join((f.split('\\\\')[1].split('_')[1:5]))\n",
    "    nonLin = (f.split('\\\\')[1].split('_')[2])\n",
    "    latent_dim = float((f.split('\\\\')[1].split('_')[4]))\n",
    "    loss = float(f.split('\\\\')[1].split('_')[0]) * 1e6\n",
    "    \n",
    "    alignment = np.mean((np.abs([item for sublist in list(latent_cos_sims.values()) for item in sublist])))\n",
    "    \n",
    "    eval_df.loc[len(eval_df)] = [file, nonLin, latent_dim, loss, alignment]\n",
    "\n",
    "# Add row for native vectors\n",
    "eval_df.loc[len(eval_df)] = ['Native', 'N/A', 'N/A', 0, \n",
    "                             np.mean((np.abs([item for sublist in list(native_cos_sims.values()) for item in sublist])))]"
   ]
  },
  {
   "cell_type": "code",
   "execution_count": 12,
   "id": "47998bdf",
   "metadata": {},
   "outputs": [
    {
     "data": {
      "text/html": [
       "<div>\n",
       "<style scoped>\n",
       "    .dataframe tbody tr th:only-of-type {\n",
       "        vertical-align: middle;\n",
       "    }\n",
       "\n",
       "    .dataframe tbody tr th {\n",
       "        vertical-align: top;\n",
       "    }\n",
       "\n",
       "    .dataframe thead th {\n",
       "        text-align: right;\n",
       "    }\n",
       "</style>\n",
       "<table border=\"1\" class=\"dataframe\">\n",
       "  <thead>\n",
       "    <tr style=\"text-align: right;\">\n",
       "      <th></th>\n",
       "      <th>File</th>\n",
       "      <th>Non-linearity</th>\n",
       "      <th>Latent dimension</th>\n",
       "      <th>Loss (1e-6)</th>\n",
       "      <th>Abs. Alignment</th>\n",
       "    </tr>\n",
       "  </thead>\n",
       "  <tbody>\n",
       "    <tr>\n",
       "      <th>0</th>\n",
       "      <td>counts150epoch_5pat_leakyReLu_960</td>\n",
       "      <td>5pat</td>\n",
       "      <td>960.0</td>\n",
       "      <td>10.72</td>\n",
       "      <td>0.647778</td>\n",
       "    </tr>\n",
       "    <tr>\n",
       "      <th>1</th>\n",
       "      <td>counts150epoch_leakyReLu_960_1200</td>\n",
       "      <td>leakyReLu</td>\n",
       "      <td>1200.0</td>\n",
       "      <td>1.15</td>\n",
       "      <td>0.558592</td>\n",
       "    </tr>\n",
       "    <tr>\n",
       "      <th>2</th>\n",
       "      <td>counts150epoch_leakyReLu_960_1300</td>\n",
       "      <td>leakyReLu</td>\n",
       "      <td>1300.0</td>\n",
       "      <td>1.25</td>\n",
       "      <td>0.590915</td>\n",
       "    </tr>\n",
       "    <tr>\n",
       "      <th>3</th>\n",
       "      <td>counts150epoch_leakyReLu_960_1400</td>\n",
       "      <td>leakyReLu</td>\n",
       "      <td>1400.0</td>\n",
       "      <td>1.28</td>\n",
       "      <td>0.566082</td>\n",
       "    </tr>\n",
       "    <tr>\n",
       "      <th>4</th>\n",
       "      <td>counts150epoch_leakyReLu_960_1100</td>\n",
       "      <td>leakyReLu</td>\n",
       "      <td>1100.0</td>\n",
       "      <td>1.36</td>\n",
       "      <td>0.653682</td>\n",
       "    </tr>\n",
       "    <tr>\n",
       "      <th>5</th>\n",
       "      <td>counts150epoch_leakyReLu_960_1000</td>\n",
       "      <td>leakyReLu</td>\n",
       "      <td>1000.0</td>\n",
       "      <td>5.65</td>\n",
       "      <td>0.636925</td>\n",
       "    </tr>\n",
       "    <tr>\n",
       "      <th>6</th>\n",
       "      <td>counts150epoch_leakyReLu_960_1024</td>\n",
       "      <td>leakyReLu</td>\n",
       "      <td>1024.0</td>\n",
       "      <td>5.93</td>\n",
       "      <td>0.636925</td>\n",
       "    </tr>\n",
       "    <tr>\n",
       "      <th>7</th>\n",
       "      <td>counts150epoch_leakyReLu_960_900</td>\n",
       "      <td>leakyReLu</td>\n",
       "      <td>900.0</td>\n",
       "      <td>62.73</td>\n",
       "      <td>0.623811</td>\n",
       "    </tr>\n",
       "    <tr>\n",
       "      <th>8</th>\n",
       "      <td>Native</td>\n",
       "      <td>N/A</td>\n",
       "      <td>N/A</td>\n",
       "      <td>0.00</td>\n",
       "      <td>0.297017</td>\n",
       "    </tr>\n",
       "  </tbody>\n",
       "</table>\n",
       "</div>"
      ],
      "text/plain": [
       "                                File Non-linearity Latent dimension  \\\n",
       "0  counts150epoch_5pat_leakyReLu_960          5pat            960.0   \n",
       "1  counts150epoch_leakyReLu_960_1200     leakyReLu           1200.0   \n",
       "2  counts150epoch_leakyReLu_960_1300     leakyReLu           1300.0   \n",
       "3  counts150epoch_leakyReLu_960_1400     leakyReLu           1400.0   \n",
       "4  counts150epoch_leakyReLu_960_1100     leakyReLu           1100.0   \n",
       "5  counts150epoch_leakyReLu_960_1000     leakyReLu           1000.0   \n",
       "6  counts150epoch_leakyReLu_960_1024     leakyReLu           1024.0   \n",
       "7   counts150epoch_leakyReLu_960_900     leakyReLu            900.0   \n",
       "8                             Native           N/A              N/A   \n",
       "\n",
       "   Loss (1e-6)  Abs. Alignment  \n",
       "0        10.72        0.647778  \n",
       "1         1.15        0.558592  \n",
       "2         1.25        0.590915  \n",
       "3         1.28        0.566082  \n",
       "4         1.36        0.653682  \n",
       "5         5.65        0.636925  \n",
       "6         5.93        0.636925  \n",
       "7        62.73        0.623811  \n",
       "8         0.00        0.297017  "
      ]
     },
     "execution_count": 12,
     "metadata": {},
     "output_type": "execute_result"
    }
   ],
   "source": [
    "eval_df"
   ]
  },
  {
   "cell_type": "code",
   "execution_count": 13,
   "id": "c7ad30a9",
   "metadata": {},
   "outputs": [],
   "source": [
    "eval_df.to_csv('Eval. Results.csv')"
   ]
  },
  {
   "cell_type": "code",
   "execution_count": null,
   "id": "9cbfb63f",
   "metadata": {},
   "outputs": [],
   "source": []
  }
 ],
 "metadata": {
  "kernelspec": {
   "display_name": "Python 3",
   "language": "python",
   "name": "python3"
  },
  "language_info": {
   "codemirror_mode": {
    "name": "ipython",
    "version": 3
   },
   "file_extension": ".py",
   "mimetype": "text/x-python",
   "name": "python",
   "nbconvert_exporter": "python",
   "pygments_lexer": "ipython3",
   "version": "3.8.3"
  }
 },
 "nbformat": 4,
 "nbformat_minor": 5
}
