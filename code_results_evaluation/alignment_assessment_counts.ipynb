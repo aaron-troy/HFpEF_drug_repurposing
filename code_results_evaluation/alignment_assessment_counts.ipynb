{
 "cells": [
  {
   "cell_type": "code",
   "execution_count": 85,
   "id": "7ccd9d69",
   "metadata": {},
   "outputs": [],
   "source": [
    "# Add path with autoencoding code\n",
    "import sys\n",
    "# caution: path[0] is reserved for script path (or '' in REPL)\n",
    "sys.path.insert(1, '../code_autoencoding')\n",
    "\n",
    "import numpy as np\n",
    "from numpy import dot\n",
    "from numpy.linalg import norm\n",
    "\n",
    "import pandas as pd\n",
    "import itertools\n",
    "from itertools import combinations\n",
    "\n",
    "import data_loader as dl\n",
    "\n",
    "import matplotlib.pyplot as plt"
   ]
  },
  {
   "cell_type": "code",
   "execution_count": 86,
   "id": "fe0e320b",
   "metadata": {},
   "outputs": [],
   "source": [
    "# Helper functions for getting cosine similarity from drug response vectors.\n",
    "def cos_sim(a,b):\n",
    "    return dot(a, b)/(norm(a)*norm(b))\n",
    "\n",
    "def combs_cos_sim(arr):\n",
    "\n",
    "    if len(arr) < 2:\n",
    "        #print(len(arr))\n",
    "        return 1\n",
    "    combs = list(combinations(np.arange(len(arr)), 2))\n",
    "    sims = [cos_sim(arr[c[0]], arr[c[1]]) for c in combs]\n",
    "\n",
    "    return np.mean(sims)"
   ]
  },
  {
   "cell_type": "markdown",
   "id": "4525b26f",
   "metadata": {},
   "source": [
    "#### Read in both the data and meta data for LINCS level 2"
   ]
  },
  {
   "cell_type": "code",
   "execution_count": 87,
   "id": "69160e16",
   "metadata": {},
   "outputs": [
    {
     "name": "stderr",
     "output_type": "stream",
     "text": [
      "<ipython-input-87-c96dad1ebba4>:7: DtypeWarning: Columns (7) have mixed types. Specify dtype option on import or set low_memory=False.\n",
      "  meta_data = pd.read_csv(meta_data_path, sep = '\\t')\n"
     ]
    }
   ],
   "source": [
    "data_path = \"../data/shared_landmark_counts_vecs.gctx_n100000x960.gct\"\n",
    "lincs_data = dl.load_CMap(data_path)\n",
    "#lincs_data = lincs_data.iloc[:, 25000:50000]\n",
    "lincs_vectors = dict(dl.vectorize(lincs_data))\n",
    "\n",
    "meta_data_path  = \"../meta_data/GSE92742_Broad_LINCS_inst_info.txt\"\n",
    "meta_data = pd.read_csv(meta_data_path, sep = '\\t')"
   ]
  },
  {
   "cell_type": "markdown",
   "id": "85ec1ca3",
   "metadata": {},
   "source": [
    "#### Remove meta data for which there is no reponse in the LINCS data "
   ]
  },
  {
   "cell_type": "code",
   "execution_count": 88,
   "id": "3b9697f5",
   "metadata": {},
   "outputs": [],
   "source": [
    "meta_data = meta_data[meta_data['inst_id'].isin(lincs_data.columns)]"
   ]
  },
  {
   "cell_type": "markdown",
   "id": "1e7a210e",
   "metadata": {},
   "source": [
    "#### Get the vector IDs (inst_id's) corresponding to each pertubation-cell combination"
   ]
  },
  {
   "cell_type": "code",
   "execution_count": 89,
   "id": "adbef7b9",
   "metadata": {},
   "outputs": [],
   "source": [
    "pert_cell_combs = itertools.product(set(meta_data.cell_id), set(meta_data.pert_iname))\n",
    "pert_cell_combs = list(set(zip(meta_data.pert_iname, meta_data.cell_id)))\n",
    "vector_ids = dict()\n"
   ]
  },
  {
   "cell_type": "code",
   "execution_count": null,
   "id": "adb4ff81",
   "metadata": {},
   "outputs": [],
   "source": [
    "for c in pert_cell_combs:\n",
    "    vector_ids[c] = meta_data.loc[(meta_data['pert_iname'] == c[0]) & (meta_data['cell_id'] == c[1])]['inst_id']"
   ]
  },
  {
   "cell_type": "markdown",
   "id": "f28a9342",
   "metadata": {},
   "source": [
    "#### Compute the mean vector for each pertubation-cell combination. This is the average response for a given cell type and drug in the native space.  Store the mean response to DMSO separately."
   ]
  },
  {
   "cell_type": "code",
   "execution_count": null,
   "id": "bb5268d7",
   "metadata": {},
   "outputs": [],
   "source": [
    "pert_cell_mean_vectors = dict()\n",
    "DMSO_cell_mean_vectors = dict()\n",
    "\n",
    "for k, v in vector_ids.items():\n",
    "    \n",
    "    vectors = [lincs_vectors[inst_id] for inst_id in v]\n",
    "    pert_cell_mean_vectors[k] = np.mean(vectors, axis = 0)\n",
    "    if(k[0] == 'DMSO'):\n",
    "        DMSO_cell_mean_vectors[k[1]] = np.mean(vectors, axis = 0)\n",
    "        \n"
   ]
  },
  {
   "cell_type": "markdown",
   "id": "741b95c8",
   "metadata": {},
   "source": [
    "#### Stubtract the DMSO vector from everything for each cell. "
   ]
  },
  {
   "cell_type": "code",
   "execution_count": null,
   "id": "acc8e656",
   "metadata": {},
   "outputs": [],
   "source": [
    "for k, v in pert_cell_mean_vectors.items():\n",
    "    pert_cell_mean_vectors[k] = v - DMSO_cell_mean_vectors[k[1]]"
   ]
  },
  {
   "cell_type": "markdown",
   "id": "6d0e2fdb",
   "metadata": {},
   "source": [
    "#### For each perturbation, get the cosine similarity between the mean responses for each cell"
   ]
  },
  {
   "cell_type": "code",
   "execution_count": null,
   "id": "7026faea",
   "metadata": {},
   "outputs": [],
   "source": [
    "pert_cos_sims = dict()\n",
    "\n",
    "for pert in set(meta_data.pert_iname):\n",
    "    \n",
    "    pert_cell_keys = [(pert, cell) for cell in set(meta_data[meta_data['pert_iname'] == pert]['cell_id'])]\n",
    "        \n",
    "    pert_vectors = [pert_cell_mean_vectors[(pert, cell)] for (pert, cell) in pert_cell_keys]\n",
    "    \n",
    "    pert_cos_sims[pert] = combs_cos_sim(pert_vectors)\n",
    "    "
   ]
  },
  {
   "cell_type": "code",
   "execution_count": null,
   "id": "69b25fe6",
   "metadata": {},
   "outputs": [],
   "source": [
    "pert_cos_sims"
   ]
  },
  {
   "cell_type": "code",
   "execution_count": null,
   "id": "c5690fdd",
   "metadata": {},
   "outputs": [],
   "source": [
    "plt.hist(pert_cos_sims.values())"
   ]
  },
  {
   "cell_type": "code",
   "execution_count": null,
   "id": "cb2bcfb7",
   "metadata": {},
   "outputs": [],
   "source": []
  }
 ],
 "metadata": {
  "kernelspec": {
   "display_name": "Python 3",
   "language": "python",
   "name": "python3"
  },
  "language_info": {
   "codemirror_mode": {
    "name": "ipython",
    "version": 3
   },
   "file_extension": ".py",
   "mimetype": "text/x-python",
   "name": "python",
   "nbconvert_exporter": "python",
   "pygments_lexer": "ipython3",
   "version": "3.8.3"
  }
 },
 "nbformat": 4,
 "nbformat_minor": 5
}
